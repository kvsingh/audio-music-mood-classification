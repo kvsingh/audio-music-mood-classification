{
 "cells": [
  {
   "cell_type": "code",
   "execution_count": 2,
   "metadata": {},
   "outputs": [
    {
     "name": "stdout",
     "output_type": "stream",
     "text": [
      "hello\n"
     ]
    }
   ],
   "source": [
    "import sys\n",
    "\n",
    "import numpy as np\n",
    "import pandas as pd\n",
    "import datetime\n",
    "import time\n",
    "\n",
    "# music api imports\n",
    "import spotipy\n",
    "import spotipy.util as util\n",
    "#import billboard\n",
    "import pygn\n",
    "#import pylast\n",
    "\n",
    "import requests\n",
    "import re\n",
    "#from bs4 import BeautifulSoup\n",
    "from time import sleep\n",
    "import pickle\n",
    "print \"hello\""
   ]
  },
  {
   "cell_type": "code",
   "execution_count": 3,
   "metadata": {},
   "outputs": [],
   "source": [
    "# timing function\n",
    "def timefunc(f):\n",
    "    def f_timer(*args, **kwargs):\n",
    "        start = time.time()\n",
    "        result = f(*args, **kwargs)\n",
    "        end = time.time()\n",
    "        print f.__name__, 'took', end - start, 'seconds'\n",
    "        return result\n",
    "    return f_timer"
   ]
  },
  {
   "cell_type": "code",
   "execution_count": 4,
   "metadata": {},
   "outputs": [
    {
     "name": "stdout",
     "output_type": "stream",
     "text": [
      "hello\n"
     ]
    },
    {
     "ename": "UnboundLocalError",
     "evalue": "local variable 'userID' referenced before assignment",
     "output_type": "error",
     "traceback": [
      "\u001b[0;31m---------------------------------------------------------------------------\u001b[0m",
      "\u001b[0;31mUnboundLocalError\u001b[0m                         Traceback (most recent call last)",
      "\u001b[0;32m<ipython-input-4-cea6d964be78>\u001b[0m in \u001b[0;36m<module>\u001b[0;34m()\u001b[0m\n\u001b[1;32m     11\u001b[0m \u001b[0;31m# Gracenote\u001b[0m\u001b[0;34m\u001b[0m\u001b[0;34m\u001b[0m\u001b[0m\n\u001b[1;32m     12\u001b[0m \u001b[0mclientid\u001b[0m\u001b[0;34m=\u001b[0m\u001b[0;34m'1308401701-1F1671C0AB98DDAE9637513FCC0366E1'\u001b[0m\u001b[0;34m\u001b[0m\u001b[0m\n\u001b[0;32m---> 13\u001b[0;31m \u001b[0muserid\u001b[0m \u001b[0;34m=\u001b[0m \u001b[0mpygn\u001b[0m\u001b[0;34m.\u001b[0m\u001b[0mregister\u001b[0m\u001b[0;34m(\u001b[0m\u001b[0mclientid\u001b[0m\u001b[0;34m)\u001b[0m\u001b[0;34m\u001b[0m\u001b[0m\n\u001b[0m\u001b[1;32m     14\u001b[0m \u001b[0;34m\u001b[0m\u001b[0m\n\u001b[1;32m     15\u001b[0m \u001b[0;31m# last.fm\u001b[0m\u001b[0;34m\u001b[0m\u001b[0;34m\u001b[0m\u001b[0m\n",
      "\u001b[0;32m/home/karan/code/audio-music-mood-classification/pygn.py\u001b[0m in \u001b[0;36mregister\u001b[0;34m(clientID)\u001b[0m\n\u001b[1;32m     96\u001b[0m                 \u001b[0muserID\u001b[0m \u001b[0;34m=\u001b[0m \u001b[0muserElem\u001b[0m\u001b[0;34m.\u001b[0m\u001b[0mtext\u001b[0m\u001b[0;34m\u001b[0m\u001b[0m\n\u001b[1;32m     97\u001b[0m \u001b[0;34m\u001b[0m\u001b[0m\n\u001b[0;32m---> 98\u001b[0;31m         \u001b[0;32mreturn\u001b[0m \u001b[0muserID\u001b[0m\u001b[0;34m\u001b[0m\u001b[0m\n\u001b[0m\u001b[1;32m     99\u001b[0m \u001b[0;31m#*****************************************************************************************************************************************\u001b[0m\u001b[0;34m\u001b[0m\u001b[0;34m\u001b[0m\u001b[0m\n\u001b[1;32m    100\u001b[0m \u001b[0;31m# Added by Fabian in order to cover the Rhythm API\u001b[0m\u001b[0;34m\u001b[0m\u001b[0;34m\u001b[0m\u001b[0m\n",
      "\u001b[0;31mUnboundLocalError\u001b[0m: local variable 'userID' referenced before assignment"
     ]
    }
   ],
   "source": [
    "# Setting up tokens and authorization - hidden for github, use own tokens\n",
    "\n",
    "# Spotify\n",
    "print \"hello\"\n",
    "token = util.prompt_for_user_token(username = 'karan.kornguy',scope='user-library-read',\n",
    "                                   client_id='f10e1186477344bea6d61188c44e68a6',\n",
    "                                   client_secret='3c6f0777bcfd47f8b1d5c37f987af437',\n",
    "                                   redirect_uri='http://localhost:5000')\n",
    "\n",
    "spotify = spotipy.Spotify(auth=token)\n",
    "# Gracenote\n",
    "clientid='1308401701-1F1671C0AB98DDAE9637513FCC0366E1'\n",
    "userid = pygn.register(clientid)\n",
    "\n",
    "# last.fm\n",
    "#apikey = <INSERT LASTFM API KEY>\n",
    "#apisecret = <INSERT LASTFM API SECRET>\n",
    "#username = <INSERT YOUR USERNAME>\n",
    "#password_hash = pylast.md5(<INSERT YOUR PASSWORD>)\n",
    "\n",
    "#lastfm = pylast.LastFMNetwork(api_key = apikey, api_secret = apisecret,\n"
   ]
  },
  {
   "cell_type": "code",
   "execution_count": null,
   "metadata": {},
   "outputs": [],
   "source": [
    "clientid='1308401701-1F1671C0AB98DDAE9637513FCC0366E1'\n",
    "userid = pygn.register(clientid)"
   ]
  },
  {
   "cell_type": "code",
   "execution_count": 9,
   "metadata": {
    "collapsed": true
   },
   "outputs": [],
   "source": [
    "# not used - script to tie billboard charting info with spotify audio features\n",
    "@timefunc\n",
    "def scrape_song_info(chart,start_date,end_date):\n",
    "   \n",
    "    '''Scrape weekly chart data and spotify information for each track between specified dates.  \n",
    "    Returns a dataframe with chart contents for each week and audio features for each track'''\n",
    "\n",
    "    dates = [datetime.datetime.strptime(end_date, '%Y-%m-%d')-datetime.timedelta(7)]\n",
    "    while min(dates)-datetime.timedelta(7)>=datetime.datetime.strptime(start_date, '%Y-%m-%d'):\n",
    "        dates.append(dates[-1]-datetime.timedelta(7))\n",
    "\n",
    "    charts_data = {}\n",
    "    for i in dates:\n",
    "        search_date = i.strftime(format='%Y-%m-%d')\n",
    "        week = billboard.ChartData(chart, date=search_date, fetch=True, quantize=True).date\n",
    "        charts = billboard.ChartData(chart, date=search_date, fetch=True, quantize=True)\n",
    "        charts_data[week] = charts\n",
    "\n",
    "    charts_df_data = []\n",
    "\n",
    "    for k,v in charts_data.iteritems():\n",
    "        for i in v:\n",
    "            df_data = {}\n",
    "            df_data['week'] = k\n",
    "            df_data['rank'] = i.rank\n",
    "            df_data['title'] = i.title\n",
    "            df_data['artist'] = i.artist\n",
    "            df_data['chart'] = chart           \n",
    "            charts_df_data.append(df_data)\n",
    "\n",
    "    charts_df = pd.DataFrame(charts_df_data)\n",
    "\n",
    "    charting_songs = {}\n",
    "    ID_set = []\n",
    "\n",
    "    for v in charts_data.values():\n",
    "        for i in v:\n",
    "            title = i.title\n",
    "            artist = i.artist\n",
    "            ID = i.spotifyID\n",
    "            if ID not in ID_set:\n",
    "                ID_set.append(ID)\n",
    "                charting_songs[(title,artist)] = ID\n",
    "\n",
    "    spotify = spotipy.Spotify(auth=token)\n",
    "    spotify_info = {k: spotify.audio_features(tracks=[v]) for k,v in charting_songs.iteritems()}\n",
    "\n",
    "    spot_info = []\n",
    "\n",
    "    for k,v in spotify_info.iteritems():\n",
    "        try:\n",
    "            spot_dict = {}\n",
    "            spot_dict = v[0]\n",
    "            spot_dict['title'] = k[0]\n",
    "            spot_dict['artist'] = k[1]\n",
    "            spot_info.append(spot_dict)\n",
    "        except:\n",
    "            pass\n",
    "\n",
    "    spotify_info = pd.DataFrame(spot_info)\n",
    "    spotify_info = spotify_info.drop(['analysis_url','track_href','type','uri'],axis=1)\n",
    "\n",
    "    return charts_df,spotify_info"
   ]
  },
  {
   "cell_type": "code",
   "execution_count": 43,
   "metadata": {
    "collapsed": true
   },
   "outputs": [],
   "source": [
    "#charts_df, spotify_info = scrape_song_info('hot-100', '2016-08-30', '2016-09-01')"
   ]
  },
  {
   "cell_type": "code",
   "execution_count": 44,
   "metadata": {
    "collapsed": true
   },
   "outputs": [],
   "source": [
    "# Examples of gracenote fuzzy match & full records\n",
    "#song1 = pygn.search(clientid, userid, artist='Zara', track='Lush')\n",
    "#song2 = pygn.search(clientid, userid, artist='The Chainsmokers', track='Closer')\n",
    "\n",
    "#song1"
   ]
  },
  {
   "cell_type": "code",
   "execution_count": 5,
   "metadata": {},
   "outputs": [],
   "source": [
    "moods = {'Pastoral / Serene':[0,0], 'Delicate / Tranquil':[0,1], 'Hopeful / Breezy':[0,2], 'Cheerful / Playful':[0,3], 'Carefree Pop':[0,4], 'Party / Fun':[0,5], 'Showy / Rousing':[0,6], 'Lusty / Jaunty':[0,7], 'Loud Celebratory':[0,8], 'Euphoric Energy':[0,9], \n",
    "         'Reverent / Healing':[1,0], 'Quiet / Introspective':[1,1], 'Friendly':[1,2], 'Charming / Easygoing':[1,3], 'Soulful / Easygoing':[1,4], 'Happy / Soulful':[1,5], 'Playful / Swingin':[1,6], 'Exuberant / Festive':[1,7], 'Upbeat Pop Groove':[1,8], 'Happy Excitement':[1,9], \n",
    "         'Refined / Mannered':[2,0], 'Awakening / Stately':[2,1], 'Sweet / Sincere':[2,2], 'Heartfelt Passion':[2,3], 'Strong / Stable':[2,4], 'Powerful / Heroic':[2,5], 'Invigorating / Joyous':[2,6], 'Jubilant / Soulful':[2,7], 'Ramshackle / Rollicking':[2,8], 'Wild / Rowdy':[2,9], \n",
    "         'Romantic / Lyrical':[3,0], 'Light Groovy':[3,1], 'Dramatic / Romantic':[3,2], 'Lush / Romantic':[3,3], 'Dramatic Emotion':[3,4], 'Idealistic / Stirring':[3,5], 'Focused Sparkling':[3,6], 'Triumphant / Rousing':[3,7], 'Confident / Tough':[3,8], 'Driving Dark Groove':[3,9],\n",
    "         'Tender / Sincere':[4,0], 'Gentle Bittersweet':[4,1], 'Suave / Sultry':[4,2], 'Dark Playful':[4,3], 'Soft Soulful':[4,4], 'Sensual Groove':[4,5], 'Dark Sparkling Lyrical':[4,6], 'Fiery Groove':[4,7], 'Arousing Groove':[4,8], 'Heavy Beat':[4,9], \n",
    "         'Lyrical Sentimental':[5,0], 'Cool Melancholy':[5,1], 'Intimate Bittersweet':[5,2], 'Smoky / Romantic':[5,3], 'Dreamy Pulse':[5,4], 'Intimate Passionate':[5,5], 'Rhythm Energetic': [5,6], 'Abstract Groove':[5,7], 'Edgy / Sexy':[5,8], 'Abstract Beat':[5,9], \n",
    "         'Mysterious / Dreamy':[6,0], 'Light Melancholy':[6,1], 'Casual Groove':[6,2], 'Wary / Defiant':[6,3], 'Bittersweet Pop':[6,4], 'Energetic Yearning':[6,5], 'Dark Pop':[6,6], 'Dark Pop Intensity':[6,7], 'Heavy Brooding':[6,8], 'Hard Positive Excitement':[6,9], \n",
    "         'Wistful / Forlorn':[7,0], 'Sad / Soulful':[7,1], 'Cool Confidence':[7,2], 'Dark Groovy':[7,3], 'Sensitive / Exploring':[7,4], 'Energetic Dreamy':[7,5], 'Dark Urgent':[7,6], 'Energetic Anxious':[7,7], 'Attitude / Defiant':[7,8], 'Hard Dark Excitement':[7,9], \n",
    "         'Solemn / Spiritual':[8,0], 'Enigmatic / Mysterious':[8,1], 'Sober / Determined':[8,2], 'Strumming Yearning':[8,3], 'Melodramatic':[8,4], 'Hypnotic Rhythm':[8,5], 'Evocative / Intriguing':[8,6], 'Energetic Melancholy':[8,7], 'Dark Hard Beat':[8,8], 'Heavy Triumphant':[8,9], \n",
    "         'Dark Cosmic':[9,0], 'Creepy / Ominous':[9,1], 'Depressed / Lonely':[9,2], 'Gritty / Soulful':[9,3], 'Serious / Cerebral':[9,4], 'Thrilling':[9,5], 'Dreamy Brooding':[9,6], 'Alienated / Brooding':[9,7], 'Chaotic / Intense':[9,8], 'Aggressive Power':[9,9]}"
   ]
  },
  {
   "cell_type": "markdown",
   "metadata": {},
   "source": [
    "## Get Spotify Song Information"
   ]
  },
  {
   "cell_type": "code",
   "execution_count": 6,
   "metadata": {},
   "outputs": [],
   "source": [
    "@timefunc\n",
    "# get categories \n",
    "def get_categories():\n",
    "    category_ids = []\n",
    "    for i in spotify.categories(limit = 50)['categories']['items']:\n",
    "        category_ids.append(i.get('id'))\n",
    "    return category_ids\n",
    "\n",
    "@timefunc\n",
    "# get playlists from list of categories\n",
    "def get_playlists(categories):\n",
    "    playlist_ids = []\n",
    "    for i in categories:\n",
    "        for j in spotify.category_playlists(i, limit = 50)['playlists']['items']:\n",
    "            playlist_ids.append(j.get('id'))\n",
    "    return playlist_ids\n",
    "\n",
    "# get song ids from list of playlist ids\n",
    "@timefunc\n",
    "def get_songs(playlists):\n",
    "    song_ids = []\n",
    "    k = 0\n",
    "    for i in playlists:\n",
    "        if k%10==0:\n",
    "            print k\n",
    "        k+=1\n",
    "        try:\n",
    "            for j in spotify.user_playlist('spotify', i)['tracks']['items']:\n",
    "                song_ids.append(j['track']['id'])\n",
    "        except:\n",
    "            pass\n",
    "        time.sleep(.1)\n",
    "    return song_ids"
   ]
  },
  {
   "cell_type": "code",
   "execution_count": 7,
   "metadata": {},
   "outputs": [
    {
     "name": "stdout",
     "output_type": "stream",
     "text": [
      "get_categories took 0.601178884506 seconds\n",
      "get_playlists took 17.9966549873 seconds\n",
      "0\n",
      "10\n",
      "20\n",
      "30\n",
      "40\n",
      "50\n",
      "60\n",
      "70\n",
      "80\n",
      "90\n",
      "100\n",
      "110\n",
      "120\n",
      "130\n",
      "140\n",
      "150\n",
      "160\n",
      "170\n",
      "180\n",
      "190\n",
      "200\n",
      "210\n",
      "220\n",
      "230\n",
      "240\n",
      "250\n",
      "260\n",
      "270\n",
      "280\n",
      "290\n",
      "300\n",
      "310\n",
      "320\n",
      "330\n",
      "340\n",
      "350\n",
      "360\n",
      "370\n",
      "380\n",
      "390\n",
      "400\n",
      "410\n",
      "420\n",
      "430\n",
      "440\n",
      "450\n",
      "460\n",
      "470\n",
      "480\n",
      "490\n",
      "500\n",
      "510\n",
      "520\n",
      "530\n",
      "540\n",
      "550\n",
      "560\n",
      "570\n",
      "580\n",
      "590\n",
      "600\n",
      "610\n",
      "620\n",
      "630\n",
      "640\n",
      "650\n",
      "660\n",
      "670\n",
      "680\n",
      "690\n",
      "700\n",
      "710\n",
      "720\n",
      "730\n",
      "740\n",
      "750\n",
      "760\n",
      "770\n",
      "780\n",
      "790\n",
      "800\n",
      "810\n",
      "820\n",
      "830\n",
      "840\n",
      "850\n",
      "get_songs took 650.537930012 seconds\n"
     ]
    }
   ],
   "source": [
    "categories = get_categories()\n",
    "playlists = get_playlists(categories)\n",
    "songs = get_songs(playlists)"
   ]
  },
  {
   "cell_type": "code",
   "execution_count": 8,
   "metadata": {},
   "outputs": [],
   "source": [
    "songs_df = pd.DataFrame(list(set(songs)))"
   ]
  },
  {
   "cell_type": "code",
   "execution_count": 9,
   "metadata": {},
   "outputs": [
    {
     "name": "stdout",
     "output_type": "stream",
     "text": [
      "854\n",
      "36099\n"
     ]
    }
   ],
   "source": [
    "print len(playlists)\n",
    "print len(songs_df)"
   ]
  },
  {
   "cell_type": "code",
   "execution_count": 15,
   "metadata": {},
   "outputs": [
    {
     "data": {
      "text/html": [
       "<div>\n",
       "<style scoped>\n",
       "    .dataframe tbody tr th:only-of-type {\n",
       "        vertical-align: middle;\n",
       "    }\n",
       "\n",
       "    .dataframe tbody tr th {\n",
       "        vertical-align: top;\n",
       "    }\n",
       "\n",
       "    .dataframe thead th {\n",
       "        text-align: right;\n",
       "    }\n",
       "</style>\n",
       "<table border=\"1\" class=\"dataframe\">\n",
       "  <thead>\n",
       "    <tr style=\"text-align: right;\">\n",
       "      <th></th>\n",
       "      <th>0</th>\n",
       "    </tr>\n",
       "  </thead>\n",
       "  <tbody>\n",
       "    <tr>\n",
       "      <th>0</th>\n",
       "      <td>5OPgSOscvDNYPofHpCSIyf</td>\n",
       "    </tr>\n",
       "    <tr>\n",
       "      <th>1</th>\n",
       "      <td>3FUsMXBxA4V7eUwQ7B0HQO</td>\n",
       "    </tr>\n",
       "    <tr>\n",
       "      <th>2</th>\n",
       "      <td>2JdzB67NvIa90K4gEZPLeX</td>\n",
       "    </tr>\n",
       "    <tr>\n",
       "      <th>3</th>\n",
       "      <td>0hRw07bcnbOUhlLHem7Bs9</td>\n",
       "    </tr>\n",
       "    <tr>\n",
       "      <th>4</th>\n",
       "      <td>4y9zPQF2PHpVFPVR20nbcY</td>\n",
       "    </tr>\n",
       "  </tbody>\n",
       "</table>\n",
       "</div>"
      ],
      "text/plain": [
       "                        0\n",
       "0  5OPgSOscvDNYPofHpCSIyf\n",
       "1  3FUsMXBxA4V7eUwQ7B0HQO\n",
       "2  2JdzB67NvIa90K4gEZPLeX\n",
       "3  0hRw07bcnbOUhlLHem7Bs9\n",
       "4  4y9zPQF2PHpVFPVR20nbcY"
      ]
     },
     "execution_count": 15,
     "metadata": {},
     "output_type": "execute_result"
    }
   ],
   "source": [
    "songs_df.head()"
   ]
  },
  {
   "cell_type": "markdown",
   "metadata": {},
   "source": [
    "## Load Pickle Point"
   ]
  },
  {
   "cell_type": "code",
   "execution_count": 10,
   "metadata": {},
   "outputs": [],
   "source": [
    "songs_df.to_pickle('songs_df.pkl')"
   ]
  },
  {
   "cell_type": "code",
   "execution_count": 7,
   "metadata": {
    "collapsed": true
   },
   "outputs": [],
   "source": [
    "songs_df = pd.read_pickle('data/songs_df.pkl')"
   ]
  },
  {
   "cell_type": "code",
   "execution_count": 11,
   "metadata": {},
   "outputs": [],
   "source": [
    "songs_df.columns = ['id']"
   ]
  },
  {
   "cell_type": "code",
   "execution_count": 12,
   "metadata": {},
   "outputs": [],
   "source": [
    "def chunks(l, n):\n",
    "    n = max(1, n)\n",
    "    return [l[i:i+n] for i in range(0, len(l), n)]"
   ]
  },
  {
   "cell_type": "code",
   "execution_count": 13,
   "metadata": {},
   "outputs": [],
   "source": [
    "@timefunc\n",
    "def complete_songs_df(df):\n",
    "    spotify_title_artists = []\n",
    "    k = 0\n",
    "    print k\n",
    "    for j in chunks(list(df.id),50):\n",
    "        if k%10==0:\n",
    "            print k\n",
    "        k+=1\n",
    "        try:\n",
    "            for i in spotify.tracks(j)['tracks']:\n",
    "                try:\n",
    "                    title_artist = {}\n",
    "                    primary_artist = i['artists'][0]['name'].encode('ascii', 'ignore')\n",
    "                    name = i['name'].encode('ascii', 'ignore')\n",
    "                    popularity = i['popularity']\n",
    "                    explicit = i['explicit']\n",
    "                    ID = i['id']\n",
    "                    \n",
    "                    title_artist['id'] = ID\n",
    "                    title_artist['title'] = name\n",
    "                    title_artist['artist'] = primary_artist\n",
    "                    title_artist['popularity'] = popularity\n",
    "                    title_artist['explicit'] = explicit\n",
    "                    spotify_title_artists.append(title_artist)\n",
    "                except:\n",
    "                    pass\n",
    "        except:\n",
    "            pass\n",
    "    print k\n",
    "    return spotify_title_artists"
   ]
  },
  {
   "cell_type": "code",
   "execution_count": 14,
   "metadata": {},
   "outputs": [
    {
     "name": "stdout",
     "output_type": "stream",
     "text": [
      "0\n",
      "0\n",
      "10\n",
      "20\n",
      "30\n",
      "40\n",
      "50\n",
      "60\n",
      "70\n",
      "80\n",
      "90\n",
      "100\n",
      "110\n",
      "120\n",
      "130\n",
      "140\n",
      "150\n",
      "160\n",
      "170\n",
      "180\n",
      "190\n",
      "200\n",
      "210\n",
      "220\n",
      "230\n",
      "240\n",
      "250\n",
      "260\n",
      "270\n",
      "280\n",
      "290\n",
      "300\n",
      "310\n",
      "320\n",
      "330\n",
      "340\n",
      "350\n",
      "360\n",
      "370\n",
      "380\n",
      "390\n",
      "400\n",
      "410\n",
      "420\n",
      "430\n",
      "440\n",
      "450\n",
      "460\n",
      "470\n",
      "480\n",
      "490\n",
      "500\n",
      "510\n",
      "520\n",
      "530\n",
      "540\n",
      "550\n",
      "560\n",
      "570\n",
      "580\n",
      "590\n",
      "600\n",
      "610\n",
      "620\n",
      "630\n",
      "640\n",
      "650\n",
      "660\n",
      "670\n",
      "680\n",
      "690\n",
      "700\n",
      "710\n",
      "720\n",
      "722\n",
      "complete_songs_df took 414.731773138 seconds\n"
     ]
    }
   ],
   "source": [
    "songs_plus = complete_songs_df(songs_df)"
   ]
  },
  {
   "cell_type": "code",
   "execution_count": 15,
   "metadata": {},
   "outputs": [],
   "source": [
    "songs_df_plus = pd.DataFrame(songs_plus)"
   ]
  },
  {
   "cell_type": "code",
   "execution_count": 16,
   "metadata": {},
   "outputs": [
    {
     "data": {
      "text/plain": [
       "36099"
      ]
     },
     "execution_count": 16,
     "metadata": {},
     "output_type": "execute_result"
    }
   ],
   "source": [
    "len(songs_df_plus)"
   ]
  },
  {
   "cell_type": "markdown",
   "metadata": {},
   "source": [
    "### Load Pickle Point"
   ]
  },
  {
   "cell_type": "code",
   "execution_count": 18,
   "metadata": {},
   "outputs": [],
   "source": [
    "songs_df_plus.to_pickle('data/songs_df.pkl')"
   ]
  },
  {
   "cell_type": "code",
   "execution_count": 12,
   "metadata": {
    "collapsed": true
   },
   "outputs": [],
   "source": [
    "songs_df_plus = pd.read_pickle('data/songs_df.pkl')"
   ]
  },
  {
   "cell_type": "markdown",
   "metadata": {},
   "source": [
    "## Get Audio Features"
   ]
  },
  {
   "cell_type": "code",
   "execution_count": 19,
   "metadata": {},
   "outputs": [],
   "source": [
    "@timefunc\n",
    "def complete_audio_features(df):\n",
    "    features_list = []\n",
    "    for j in chunks(list(df.id),50):\n",
    "        features_add = spotify.audio_features(tracks=j)\n",
    "        features_list.extend(features_add)\n",
    "    return features_list"
   ]
  },
  {
   "cell_type": "code",
   "execution_count": 20,
   "metadata": {},
   "outputs": [
    {
     "name": "stdout",
     "output_type": "stream",
     "text": [
      "complete_audio_features took 386.463344097 seconds\n"
     ]
    }
   ],
   "source": [
    "audio_features = complete_audio_features(songs_df_plus)"
   ]
  },
  {
   "cell_type": "code",
   "execution_count": 23,
   "metadata": {},
   "outputs": [],
   "source": [
    "def make_audio_features_df(audio_features):\n",
    "    audio_features_df = pd.DataFrame(columns = audio_features[0])\n",
    "    for i in audio_features:\n",
    "        audio_features_df = audio_features_df.append(i, ignore_index=True)\n",
    "    return audio_features_df"
   ]
  },
  {
   "cell_type": "code",
   "execution_count": 25,
   "metadata": {},
   "outputs": [],
   "source": [
    "audio_features_df = make_audio_features_df(audio_features)"
   ]
  },
  {
   "cell_type": "markdown",
   "metadata": {},
   "source": [
    "### Load Pickle Point"
   ]
  },
  {
   "cell_type": "code",
   "execution_count": 26,
   "metadata": {},
   "outputs": [],
   "source": [
    "audio_features_df.to_pickle('data/audio_features.pkl')"
   ]
  },
  {
   "cell_type": "code",
   "execution_count": 15,
   "metadata": {
    "collapsed": true
   },
   "outputs": [],
   "source": [
    "audio_features_df = pd.read_pickle('data/audio_features.pkl')"
   ]
  },
  {
   "cell_type": "markdown",
   "metadata": {},
   "source": [
    "## Merge Song and Audio Feature Dataframes"
   ]
  },
  {
   "cell_type": "code",
   "execution_count": 27,
   "metadata": {},
   "outputs": [
    {
     "name": "stdout",
     "output_type": "stream",
     "text": [
      "\n"
     ]
    }
   ],
   "source": [
    "print \"\"\n",
    "songs = pd.merge(songs_df_plus, audio_features_df, on='id')"
   ]
  },
  {
   "cell_type": "code",
   "execution_count": 28,
   "metadata": {},
   "outputs": [],
   "source": [
    "songs.drop(['track_href', 'analysis_url', 'uri', 'type'], axis=1, inplace=True)"
   ]
  },
  {
   "cell_type": "code",
   "execution_count": 29,
   "metadata": {},
   "outputs": [
    {
     "data": {
      "text/html": [
       "<div>\n",
       "<table border=\"1\" class=\"dataframe\">\n",
       "  <thead>\n",
       "    <tr style=\"text-align: right;\">\n",
       "      <th></th>\n",
       "      <th>artist</th>\n",
       "      <th>explicit</th>\n",
       "      <th>id</th>\n",
       "      <th>popularity</th>\n",
       "      <th>title</th>\n",
       "      <th>energy</th>\n",
       "      <th>liveness</th>\n",
       "      <th>tempo</th>\n",
       "      <th>speechiness</th>\n",
       "      <th>acousticness</th>\n",
       "      <th>instrumentalness</th>\n",
       "      <th>time_signature</th>\n",
       "      <th>danceability</th>\n",
       "      <th>key</th>\n",
       "      <th>duration_ms</th>\n",
       "      <th>loudness</th>\n",
       "      <th>valence</th>\n",
       "      <th>mode</th>\n",
       "    </tr>\n",
       "  </thead>\n",
       "  <tbody>\n",
       "    <tr>\n",
       "      <th>0</th>\n",
       "      <td>Nirvana</td>\n",
       "      <td>False</td>\n",
       "      <td>3FUsMXBxA4V7eUwQ7B0HQO</td>\n",
       "      <td>56</td>\n",
       "      <td>Love Buzz - Remastered</td>\n",
       "      <td>0.885</td>\n",
       "      <td>0.1690</td>\n",
       "      <td>138.153</td>\n",
       "      <td>0.0354</td>\n",
       "      <td>0.000032</td>\n",
       "      <td>0.196000</td>\n",
       "      <td>4</td>\n",
       "      <td>0.470</td>\n",
       "      <td>3</td>\n",
       "      <td>215120</td>\n",
       "      <td>-7.224</td>\n",
       "      <td>0.7900</td>\n",
       "      <td>1</td>\n",
       "    </tr>\n",
       "    <tr>\n",
       "      <th>1</th>\n",
       "      <td>The Presidents Of The United States Of America</td>\n",
       "      <td>False</td>\n",
       "      <td>2JdzB67NvIa90K4gEZPLeX</td>\n",
       "      <td>67</td>\n",
       "      <td>Lump</td>\n",
       "      <td>0.873</td>\n",
       "      <td>0.1650</td>\n",
       "      <td>142.726</td>\n",
       "      <td>0.0386</td>\n",
       "      <td>0.004680</td>\n",
       "      <td>0.000000</td>\n",
       "      <td>4</td>\n",
       "      <td>0.499</td>\n",
       "      <td>6</td>\n",
       "      <td>134200</td>\n",
       "      <td>-3.902</td>\n",
       "      <td>0.8640</td>\n",
       "      <td>1</td>\n",
       "    </tr>\n",
       "    <tr>\n",
       "      <th>2</th>\n",
       "      <td>Joshua Hyslop</td>\n",
       "      <td>False</td>\n",
       "      <td>5nhptWSQJ8WRqHGJDJXrPM</td>\n",
       "      <td>49</td>\n",
       "      <td>Stand Your Ground</td>\n",
       "      <td>0.270</td>\n",
       "      <td>0.1150</td>\n",
       "      <td>131.876</td>\n",
       "      <td>0.0283</td>\n",
       "      <td>0.658000</td>\n",
       "      <td>0.000005</td>\n",
       "      <td>4</td>\n",
       "      <td>0.710</td>\n",
       "      <td>7</td>\n",
       "      <td>203253</td>\n",
       "      <td>-9.541</td>\n",
       "      <td>0.6840</td>\n",
       "      <td>1</td>\n",
       "    </tr>\n",
       "    <tr>\n",
       "      <th>3</th>\n",
       "      <td>John Joseph Brill</td>\n",
       "      <td>False</td>\n",
       "      <td>4y9zPQF2PHpVFPVR20nbcY</td>\n",
       "      <td>6</td>\n",
       "      <td>I'm Not Alright</td>\n",
       "      <td>0.531</td>\n",
       "      <td>0.0878</td>\n",
       "      <td>100.000</td>\n",
       "      <td>0.0242</td>\n",
       "      <td>0.143000</td>\n",
       "      <td>0.875000</td>\n",
       "      <td>4</td>\n",
       "      <td>0.591</td>\n",
       "      <td>6</td>\n",
       "      <td>214120</td>\n",
       "      <td>-10.889</td>\n",
       "      <td>0.2810</td>\n",
       "      <td>1</td>\n",
       "    </tr>\n",
       "    <tr>\n",
       "      <th>4</th>\n",
       "      <td>Danielle Bradbery</td>\n",
       "      <td>False</td>\n",
       "      <td>5APWbHdwUCA08ZLl0meDCh</td>\n",
       "      <td>60</td>\n",
       "      <td>Worth It</td>\n",
       "      <td>0.490</td>\n",
       "      <td>0.1380</td>\n",
       "      <td>115.020</td>\n",
       "      <td>0.0322</td>\n",
       "      <td>0.272000</td>\n",
       "      <td>0.000000</td>\n",
       "      <td>3</td>\n",
       "      <td>0.544</td>\n",
       "      <td>5</td>\n",
       "      <td>206827</td>\n",
       "      <td>-4.627</td>\n",
       "      <td>0.3840</td>\n",
       "      <td>1</td>\n",
       "    </tr>\n",
       "    <tr>\n",
       "      <th>5</th>\n",
       "      <td>TAEYEON</td>\n",
       "      <td>False</td>\n",
       "      <td>6CdUgvL597jWmW4w8P5kHs</td>\n",
       "      <td>62</td>\n",
       "      <td>Fine</td>\n",
       "      <td>0.565</td>\n",
       "      <td>0.0448</td>\n",
       "      <td>173.281</td>\n",
       "      <td>0.0608</td>\n",
       "      <td>0.358000</td>\n",
       "      <td>0.000000</td>\n",
       "      <td>4</td>\n",
       "      <td>0.360</td>\n",
       "      <td>7</td>\n",
       "      <td>209157</td>\n",
       "      <td>-4.898</td>\n",
       "      <td>0.3110</td>\n",
       "      <td>1</td>\n",
       "    </tr>\n",
       "    <tr>\n",
       "      <th>6</th>\n",
       "      <td>Faker</td>\n",
       "      <td>False</td>\n",
       "      <td>2HwlvOkwACOGFySnp16b9l</td>\n",
       "      <td>48</td>\n",
       "      <td>This Heart Attack</td>\n",
       "      <td>0.813</td>\n",
       "      <td>0.1410</td>\n",
       "      <td>122.016</td>\n",
       "      <td>0.0428</td>\n",
       "      <td>0.020100</td>\n",
       "      <td>0.000000</td>\n",
       "      <td>4</td>\n",
       "      <td>0.625</td>\n",
       "      <td>1</td>\n",
       "      <td>227733</td>\n",
       "      <td>-4.184</td>\n",
       "      <td>0.7330</td>\n",
       "      <td>0</td>\n",
       "    </tr>\n",
       "    <tr>\n",
       "      <th>7</th>\n",
       "      <td>Sir Spyro</td>\n",
       "      <td>False</td>\n",
       "      <td>08rB1AFgNC3e4UUjvC9Zel</td>\n",
       "      <td>60</td>\n",
       "      <td>Hell to the Liars</td>\n",
       "      <td>0.609</td>\n",
       "      <td>0.0717</td>\n",
       "      <td>134.916</td>\n",
       "      <td>0.2740</td>\n",
       "      <td>0.081900</td>\n",
       "      <td>0.000000</td>\n",
       "      <td>4</td>\n",
       "      <td>0.568</td>\n",
       "      <td>2</td>\n",
       "      <td>228000</td>\n",
       "      <td>-8.978</td>\n",
       "      <td>0.0712</td>\n",
       "      <td>0</td>\n",
       "    </tr>\n",
       "    <tr>\n",
       "      <th>8</th>\n",
       "      <td>N.W.A.</td>\n",
       "      <td>True</td>\n",
       "      <td>7MMfKdXKwnnZBT8vIuCvLs</td>\n",
       "      <td>57</td>\n",
       "      <td>Dope Man</td>\n",
       "      <td>0.702</td>\n",
       "      <td>0.1230</td>\n",
       "      <td>176.483</td>\n",
       "      <td>0.2710</td>\n",
       "      <td>0.007690</td>\n",
       "      <td>0.000000</td>\n",
       "      <td>4</td>\n",
       "      <td>0.753</td>\n",
       "      <td>7</td>\n",
       "      <td>375733</td>\n",
       "      <td>-7.922</td>\n",
       "      <td>0.7270</td>\n",
       "      <td>1</td>\n",
       "    </tr>\n",
       "    <tr>\n",
       "      <th>9</th>\n",
       "      <td>Katchafire</td>\n",
       "      <td>False</td>\n",
       "      <td>3BojnSbIR2oKctO3nvBLRb</td>\n",
       "      <td>52</td>\n",
       "      <td>Love Letter</td>\n",
       "      <td>0.550</td>\n",
       "      <td>0.0730</td>\n",
       "      <td>145.004</td>\n",
       "      <td>0.0568</td>\n",
       "      <td>0.130000</td>\n",
       "      <td>0.136000</td>\n",
       "      <td>4</td>\n",
       "      <td>0.830</td>\n",
       "      <td>7</td>\n",
       "      <td>214293</td>\n",
       "      <td>-5.367</td>\n",
       "      <td>0.9700</td>\n",
       "      <td>1</td>\n",
       "    </tr>\n",
       "  </tbody>\n",
       "</table>\n",
       "</div>"
      ],
      "text/plain": [
       "                                           artist explicit  \\\n",
       "0                                         Nirvana    False   \n",
       "1  The Presidents Of The United States Of America    False   \n",
       "2                                   Joshua Hyslop    False   \n",
       "3                               John Joseph Brill    False   \n",
       "4                               Danielle Bradbery    False   \n",
       "5                                         TAEYEON    False   \n",
       "6                                           Faker    False   \n",
       "7                                       Sir Spyro    False   \n",
       "8                                          N.W.A.     True   \n",
       "9                                      Katchafire    False   \n",
       "\n",
       "                       id  popularity                   title  energy  \\\n",
       "0  3FUsMXBxA4V7eUwQ7B0HQO          56  Love Buzz - Remastered   0.885   \n",
       "1  2JdzB67NvIa90K4gEZPLeX          67                    Lump   0.873   \n",
       "2  5nhptWSQJ8WRqHGJDJXrPM          49       Stand Your Ground   0.270   \n",
       "3  4y9zPQF2PHpVFPVR20nbcY           6         I'm Not Alright   0.531   \n",
       "4  5APWbHdwUCA08ZLl0meDCh          60                Worth It   0.490   \n",
       "5  6CdUgvL597jWmW4w8P5kHs          62                    Fine   0.565   \n",
       "6  2HwlvOkwACOGFySnp16b9l          48       This Heart Attack   0.813   \n",
       "7  08rB1AFgNC3e4UUjvC9Zel          60       Hell to the Liars   0.609   \n",
       "8  7MMfKdXKwnnZBT8vIuCvLs          57                Dope Man   0.702   \n",
       "9  3BojnSbIR2oKctO3nvBLRb          52             Love Letter   0.550   \n",
       "\n",
       "   liveness    tempo  speechiness  acousticness  instrumentalness  \\\n",
       "0    0.1690  138.153       0.0354      0.000032          0.196000   \n",
       "1    0.1650  142.726       0.0386      0.004680          0.000000   \n",
       "2    0.1150  131.876       0.0283      0.658000          0.000005   \n",
       "3    0.0878  100.000       0.0242      0.143000          0.875000   \n",
       "4    0.1380  115.020       0.0322      0.272000          0.000000   \n",
       "5    0.0448  173.281       0.0608      0.358000          0.000000   \n",
       "6    0.1410  122.016       0.0428      0.020100          0.000000   \n",
       "7    0.0717  134.916       0.2740      0.081900          0.000000   \n",
       "8    0.1230  176.483       0.2710      0.007690          0.000000   \n",
       "9    0.0730  145.004       0.0568      0.130000          0.136000   \n",
       "\n",
       "   time_signature  danceability  key  duration_ms  loudness  valence  mode  \n",
       "0               4         0.470    3       215120    -7.224   0.7900     1  \n",
       "1               4         0.499    6       134200    -3.902   0.8640     1  \n",
       "2               4         0.710    7       203253    -9.541   0.6840     1  \n",
       "3               4         0.591    6       214120   -10.889   0.2810     1  \n",
       "4               3         0.544    5       206827    -4.627   0.3840     1  \n",
       "5               4         0.360    7       209157    -4.898   0.3110     1  \n",
       "6               4         0.625    1       227733    -4.184   0.7330     0  \n",
       "7               4         0.568    2       228000    -8.978   0.0712     0  \n",
       "8               4         0.753    7       375733    -7.922   0.7270     1  \n",
       "9               4         0.830    7       214293    -5.367   0.9700     1  "
      ]
     },
     "execution_count": 29,
     "metadata": {},
     "output_type": "execute_result"
    }
   ],
   "source": [
    "songs.head(10)"
   ]
  },
  {
   "cell_type": "markdown",
   "metadata": {
    "collapsed": true
   },
   "source": [
    "### Load Pickle Point"
   ]
  },
  {
   "cell_type": "code",
   "execution_count": 30,
   "metadata": {},
   "outputs": [],
   "source": [
    "songs.to_pickle('spotify_songs.pkl')"
   ]
  },
  {
   "cell_type": "code",
   "execution_count": 31,
   "metadata": {},
   "outputs": [
    {
     "data": {
      "text/plain": [
       "(36096, 18)"
      ]
     },
     "execution_count": 31,
     "metadata": {},
     "output_type": "execute_result"
    }
   ],
   "source": [
    "songs.shape"
   ]
  },
  {
   "cell_type": "code",
   "execution_count": 9,
   "metadata": {
    "collapsed": true
   },
   "outputs": [],
   "source": [
    "songs = pd.read_pickle('data/spotify_songs.pkl')"
   ]
  }
 ],
 "metadata": {
  "anaconda-cloud": {},
  "kernelspec": {
   "display_name": "Python 2",
   "language": "python",
   "name": "python2"
  },
  "language_info": {
   "codemirror_mode": {
    "name": "ipython",
    "version": 2
   },
   "file_extension": ".py",
   "mimetype": "text/x-python",
   "name": "python",
   "nbconvert_exporter": "python",
   "pygments_lexer": "ipython2",
   "version": "2.7.12"
  }
 },
 "nbformat": 4,
 "nbformat_minor": 1
}
